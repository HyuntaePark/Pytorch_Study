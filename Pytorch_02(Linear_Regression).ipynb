{
  "nbformat": 4,
  "nbformat_minor": 0,
  "metadata": {
    "colab": {
      "name": "Pytorch_02(Linear_Regression).ipynb",
      "provenance": [],
      "authorship_tag": "ABX9TyPpsOybS4B0hbeiOzgvbyV+",
      "include_colab_link": true
    },
    "kernelspec": {
      "name": "python3",
      "display_name": "Python 3"
    },
    "language_info": {
      "name": "python"
    }
  },
  "cells": [
    {
      "cell_type": "markdown",
      "metadata": {
        "id": "view-in-github",
        "colab_type": "text"
      },
      "source": [
        "<a href=\"https://colab.research.google.com/github/HyuntaePark/Pytorch_Study/blob/main/Pytorch_02(Linear_Regression).ipynb\" target=\"_parent\"><img src=\"https://colab.research.google.com/assets/colab-badge.svg\" alt=\"Open In Colab\"/></a>"
      ]
    },
    {
      "cell_type": "markdown",
      "source": [
        "Linear Regression\n",
        "\n",
        "데이터에 대한 이해(Data Definition)\n",
        "학습할 데이터에 대해서 알아봅니다.\n",
        "\n",
        "가설(Hypothesis) 수립\n",
        "가설을 수립하는 방법에 대해서 알아봅니다.\n",
        "\n",
        "손실 계산하기(Compute loss)\n",
        "학습 데이터를 이용해서 연속적으로 모델을 개선시키는데 이 때 손실(loss)를 이용합니다.\n",
        "\n",
        "경사 하강법(Gradient Descent)\n",
        "학습을 위한 핵심 알고리즘인 경사 하강법(Gradient Descent)에 대해서 이해합니다."
      ],
      "metadata": {
        "id": "u6AIjRgbi_P-"
      }
    },
    {
      "cell_type": "code",
      "source": [
        "import torch"
      ],
      "metadata": {
        "id": "s4maCS1-jTVY"
      },
      "execution_count": 1,
      "outputs": []
    },
    {
      "cell_type": "code",
      "execution_count": 2,
      "metadata": {
        "id": "g6XptjxIiuCc"
      },
      "outputs": [],
      "source": [
        "x_train = torch.FloatTensor([[1], [2], [3]])\n",
        "y_train = torch.FloatTensor([[2], [4], [6]])"
      ]
    },
    {
      "cell_type": "markdown",
      "source": [
        "Cost Function(비용함수)\n",
        "\n",
        "비용 함수(cost function) = 손실 함수(loss function) = 오차 함수(error function) = 목적 함수(objective function)"
      ],
      "metadata": {
        "id": "uxETOOJZjmB_"
      }
    },
    {
      "cell_type": "markdown",
      "source": [
        "Pytorch : Linear Regression"
      ],
      "metadata": {
        "id": "UG_9c1MH2MGv"
      }
    },
    {
      "cell_type": "code",
      "source": [
        "import torch\n",
        "import torch.nn as nn\n",
        "import torch.nn.functional as F\n",
        "import torch.optim as optim"
      ],
      "metadata": {
        "id": "7eMy3d-0jSHK"
      },
      "execution_count": 3,
      "outputs": []
    },
    {
      "cell_type": "code",
      "source": [
        "# 현재 실습하고 있는 파이썬 코드를 재실행해도 다음에도 같은 결과가 나오도록 랜덤 시드(random seed)를 줍니다.\n",
        "torch.manual_seed(1)"
      ],
      "metadata": {
        "colab": {
          "base_uri": "https://localhost:8080/"
        },
        "id": "HCUSEaJV2ViD",
        "outputId": "576ccd3f-fced-4ff0-c542-c7b894fa304b"
      },
      "execution_count": 4,
      "outputs": [
        {
          "output_type": "execute_result",
          "data": {
            "text/plain": [
              "<torch._C.Generator at 0x7f8575e02710>"
            ]
          },
          "metadata": {},
          "execution_count": 4
        }
      ]
    },
    {
      "cell_type": "code",
      "source": [
        "print(x_train)\n",
        "print(x_train.shape)"
      ],
      "metadata": {
        "colab": {
          "base_uri": "https://localhost:8080/"
        },
        "id": "gx9B9foP2mJ9",
        "outputId": "4dee3e55-f134-43e0-b298-c66d3d9b4471"
      },
      "execution_count": 5,
      "outputs": [
        {
          "output_type": "stream",
          "name": "stdout",
          "text": [
            "tensor([[1.],\n",
            "        [2.],\n",
            "        [3.]])\n",
            "torch.Size([3, 1])\n"
          ]
        }
      ]
    },
    {
      "cell_type": "code",
      "source": [
        "print(y_train)\n",
        "print(y_train.shape)"
      ],
      "metadata": {
        "colab": {
          "base_uri": "https://localhost:8080/"
        },
        "id": "eVZ_2UFB2soo",
        "outputId": "de4ce0a1-632a-4d8f-b6e4-e182bb9ae170"
      },
      "execution_count": 6,
      "outputs": [
        {
          "output_type": "stream",
          "name": "stdout",
          "text": [
            "tensor([[2.],\n",
            "        [4.],\n",
            "        [6.]])\n",
            "torch.Size([3, 1])\n"
          ]
        }
      ]
    },
    {
      "cell_type": "code",
      "source": [
        "# 가중치 W를 0으로 초기화하고 학습을 통해 값이 변경되는 변수임을 명시함.\n",
        "W = torch.zeros(1, requires_grad=True) \n",
        "# 가중치 W를 출력\n",
        "print(W) "
      ],
      "metadata": {
        "colab": {
          "base_uri": "https://localhost:8080/"
        },
        "id": "EYJ1YECa2vzK",
        "outputId": "996f8f77-bc9d-448d-864f-52bfea10382e"
      },
      "execution_count": 7,
      "outputs": [
        {
          "output_type": "stream",
          "name": "stdout",
          "text": [
            "tensor([0.], requires_grad=True)\n"
          ]
        }
      ]
    },
    {
      "cell_type": "code",
      "source": [
        "b = torch.zeros(1, requires_grad=True)\n",
        "print(b)"
      ],
      "metadata": {
        "colab": {
          "base_uri": "https://localhost:8080/"
        },
        "id": "vDcqQ-1g2ylu",
        "outputId": "0306ce40-806a-4d66-ac10-6aa147eee6cd"
      },
      "execution_count": 8,
      "outputs": [
        {
          "output_type": "stream",
          "name": "stdout",
          "text": [
            "tensor([0.], requires_grad=True)\n"
          ]
        }
      ]
    },
    {
      "cell_type": "code",
      "source": [
        "hypothesis = x_train * W + b\n",
        "print(hypothesis)"
      ],
      "metadata": {
        "colab": {
          "base_uri": "https://localhost:8080/"
        },
        "id": "4q8MYuez3CsZ",
        "outputId": "b6157209-2137-45d0-dd9c-27966d0279e8"
      },
      "execution_count": 9,
      "outputs": [
        {
          "output_type": "stream",
          "name": "stdout",
          "text": [
            "tensor([[0.],\n",
            "        [0.],\n",
            "        [0.]], grad_fn=<AddBackward0>)\n"
          ]
        }
      ]
    },
    {
      "cell_type": "code",
      "source": [
        "# 앞서 배운 torch.mean으로 평균을 구한다.\n",
        "cost = torch.mean((hypothesis - y_train) ** 2) \n",
        "print(cost)"
      ],
      "metadata": {
        "colab": {
          "base_uri": "https://localhost:8080/"
        },
        "id": "D94zr7Z33IAq",
        "outputId": "6e48eb64-61c5-4fc2-8211-9b717906ccfa"
      },
      "execution_count": 10,
      "outputs": [
        {
          "output_type": "stream",
          "name": "stdout",
          "text": [
            "tensor(18.6667, grad_fn=<MeanBackward0>)\n"
          ]
        }
      ]
    },
    {
      "cell_type": "code",
      "source": [
        "optimizer = optim.SGD([W, b], lr=0.01)"
      ],
      "metadata": {
        "id": "R8rvPI_w3Zeh"
      },
      "execution_count": 11,
      "outputs": []
    },
    {
      "cell_type": "code",
      "source": [
        "# gradient를 0으로 초기화\n",
        "optimizer.zero_grad() \n",
        "# 비용 함수를 미분하여 gradient 계산\n",
        "cost.backward() \n",
        "# W와 b를 업데이트\n",
        "optimizer.step()"
      ],
      "metadata": {
        "id": "nQHeMJWp3lN6"
      },
      "execution_count": 12,
      "outputs": []
    },
    {
      "cell_type": "code",
      "source": [
        "# 데이터\n",
        "x_train = torch.FloatTensor([[1], [2], [3]])\n",
        "y_train = torch.FloatTensor([[2], [4], [6]])\n",
        "# 모델 초기화\n",
        "W = torch.zeros(1, requires_grad=True)# 자동 미분\n",
        "b = torch.zeros(1, requires_grad=True)\n",
        "# optimizer 설정\n",
        "optimizer = optim.SGD([W, b], lr=0.01)\n",
        "\n",
        "nb_epochs = 2000 # 원하는만큼 경사 하강법을 반복\n",
        "for epoch in range(nb_epochs + 1):\n",
        "\n",
        "    # H(x) 계산\n",
        "    hypothesis = x_train * W + b\n",
        "\n",
        "    # cost 계산\n",
        "    cost = torch.mean((hypothesis - y_train) ** 2)\n",
        "\n",
        "    # cost로 H(x) 개선\n",
        "    optimizer.zero_grad()\n",
        "    cost.backward() #requires_grad를 호출하여 자동미분\n",
        "    optimizer.step()\n",
        "\n",
        "    # 100번마다 로그 출력\n",
        "    if epoch % 100 == 0:\n",
        "        print('Epoch {:4d}/{} W: {:.3f}, b: {:.3f} Cost: {:.6f}'.format(\n",
        "            epoch, nb_epochs, W.item(), b.item(), cost.item()\n",
        "        ))"
      ],
      "metadata": {
        "colab": {
          "base_uri": "https://localhost:8080/"
        },
        "id": "eri7XtOX4J4f",
        "outputId": "b3724055-8f66-4f3f-ccba-29d1c56d4432"
      },
      "execution_count": 13,
      "outputs": [
        {
          "output_type": "stream",
          "name": "stdout",
          "text": [
            "Epoch    0/2000 W: 0.187, b: 0.080 Cost: 18.666666\n",
            "Epoch  100/2000 W: 1.746, b: 0.578 Cost: 0.048171\n",
            "Epoch  200/2000 W: 1.800, b: 0.454 Cost: 0.029767\n",
            "Epoch  300/2000 W: 1.843, b: 0.357 Cost: 0.018394\n",
            "Epoch  400/2000 W: 1.876, b: 0.281 Cost: 0.011366\n",
            "Epoch  500/2000 W: 1.903, b: 0.221 Cost: 0.007024\n",
            "Epoch  600/2000 W: 1.924, b: 0.174 Cost: 0.004340\n",
            "Epoch  700/2000 W: 1.940, b: 0.136 Cost: 0.002682\n",
            "Epoch  800/2000 W: 1.953, b: 0.107 Cost: 0.001657\n",
            "Epoch  900/2000 W: 1.963, b: 0.084 Cost: 0.001024\n",
            "Epoch 1000/2000 W: 1.971, b: 0.066 Cost: 0.000633\n",
            "Epoch 1100/2000 W: 1.977, b: 0.052 Cost: 0.000391\n",
            "Epoch 1200/2000 W: 1.982, b: 0.041 Cost: 0.000242\n",
            "Epoch 1300/2000 W: 1.986, b: 0.032 Cost: 0.000149\n",
            "Epoch 1400/2000 W: 1.989, b: 0.025 Cost: 0.000092\n",
            "Epoch 1500/2000 W: 1.991, b: 0.020 Cost: 0.000057\n",
            "Epoch 1600/2000 W: 1.993, b: 0.016 Cost: 0.000035\n",
            "Epoch 1700/2000 W: 1.995, b: 0.012 Cost: 0.000022\n",
            "Epoch 1800/2000 W: 1.996, b: 0.010 Cost: 0.000013\n",
            "Epoch 1900/2000 W: 1.997, b: 0.008 Cost: 0.000008\n",
            "Epoch 2000/2000 W: 1.997, b: 0.006 Cost: 0.000005\n"
          ]
        }
      ]
    },
    {
      "cell_type": "code",
      "source": [
        "# zero_grad()로 초기화 시키지 않은 경우 (누적됨)\n",
        "import torch\n",
        "w = torch.tensor(2.0, requires_grad=True)\n",
        "\n",
        "nb_epochs = 20\n",
        "for epoch in range(nb_epochs + 1):\n",
        "\n",
        "  z = 2*w\n",
        "\n",
        "  z.backward()\n",
        "  print('수식을 w로 미분한 값 : {}'.format(w.grad))"
      ],
      "metadata": {
        "colab": {
          "base_uri": "https://localhost:8080/"
        },
        "id": "bWC6hJ7i5BK7",
        "outputId": "4558de6b-97cd-4ed8-8675-197dc29746ef"
      },
      "execution_count": 14,
      "outputs": [
        {
          "output_type": "stream",
          "name": "stdout",
          "text": [
            "수식을 w로 미분한 값 : 2.0\n",
            "수식을 w로 미분한 값 : 4.0\n",
            "수식을 w로 미분한 값 : 6.0\n",
            "수식을 w로 미분한 값 : 8.0\n",
            "수식을 w로 미분한 값 : 10.0\n",
            "수식을 w로 미분한 값 : 12.0\n",
            "수식을 w로 미분한 값 : 14.0\n",
            "수식을 w로 미분한 값 : 16.0\n",
            "수식을 w로 미분한 값 : 18.0\n",
            "수식을 w로 미분한 값 : 20.0\n",
            "수식을 w로 미분한 값 : 22.0\n",
            "수식을 w로 미분한 값 : 24.0\n",
            "수식을 w로 미분한 값 : 26.0\n",
            "수식을 w로 미분한 값 : 28.0\n",
            "수식을 w로 미분한 값 : 30.0\n",
            "수식을 w로 미분한 값 : 32.0\n",
            "수식을 w로 미분한 값 : 34.0\n",
            "수식을 w로 미분한 값 : 36.0\n",
            "수식을 w로 미분한 값 : 38.0\n",
            "수식을 w로 미분한 값 : 40.0\n",
            "수식을 w로 미분한 값 : 42.0\n"
          ]
        }
      ]
    },
    {
      "cell_type": "code",
      "source": [
        "# torch.manual_seed() -> 다른 컴퓨터에서 실행하여도 동일한 결과 \n",
        "torch.manual_seed(3)\n",
        "print('랜덤 시드가 3일 때')\n",
        "for i in range(1,3):\n",
        "    print(torch.rand(1))"
      ],
      "metadata": {
        "colab": {
          "base_uri": "https://localhost:8080/"
        },
        "id": "V3VqUDal5WOp",
        "outputId": "ebce3efb-570f-42f5-b0d8-14f3a4569558"
      },
      "execution_count": 16,
      "outputs": [
        {
          "output_type": "stream",
          "name": "stdout",
          "text": [
            "랜덤 시드가 3일 때\n",
            "tensor([0.0043])\n",
            "tensor([0.1056])\n"
          ]
        }
      ]
    },
    {
      "cell_type": "markdown",
      "source": [
        "Autograd"
      ],
      "metadata": {
        "id": "Yk6YL9lNwKrE"
      }
    },
    {
      "cell_type": "code",
      "source": [
        "import torch\n",
        "w = torch.tensor(2.0, requires_grad = True)\n",
        "\n",
        "y= w**2\n",
        "z = 2*y +5\n",
        "\n",
        "z.backward()\n",
        "\n",
        "print('수식을 w로 미분한 값 : {}'.format(w.grad))"
      ],
      "metadata": {
        "colab": {
          "base_uri": "https://localhost:8080/"
        },
        "id": "X8ArdBUgwHsX",
        "outputId": "28efc1a5-a3f3-47b0-aa11-015f9701f26b"
      },
      "execution_count": 19,
      "outputs": [
        {
          "output_type": "stream",
          "name": "stdout",
          "text": [
            "수식을 w로 미분한 값 : 8.0\n"
          ]
        }
      ]
    },
    {
      "cell_type": "markdown",
      "source": [
        "Multivariable Linear regression"
      ],
      "metadata": {
        "id": "v9max116zJUz"
      }
    },
    {
      "cell_type": "code",
      "source": [
        "import torch\n",
        "import torch.nn as nn\n",
        "import torch.nn.functional as F\n",
        "import torch.optim as optim"
      ],
      "metadata": {
        "id": "dRavH7A4wj7m"
      },
      "execution_count": 20,
      "outputs": []
    },
    {
      "cell_type": "code",
      "source": [
        "torch.manual_seed(1)"
      ],
      "metadata": {
        "colab": {
          "base_uri": "https://localhost:8080/"
        },
        "id": "xFO7zaRozxVp",
        "outputId": "52c8e6b6-8e5d-4033-a653-a8c5f6d03a88"
      },
      "execution_count": 21,
      "outputs": [
        {
          "output_type": "execute_result",
          "data": {
            "text/plain": [
              "<torch._C.Generator at 0x7f8575e02710>"
            ]
          },
          "metadata": {},
          "execution_count": 21
        }
      ]
    },
    {
      "cell_type": "code",
      "source": [
        "# 훈련 데이터\n",
        "x1_train = torch.FloatTensor([[73], [93], [89], [96], [73]])\n",
        "x2_train = torch.FloatTensor([[80], [88], [91], [98], [66]])\n",
        "x3_train = torch.FloatTensor([[75], [93], [90], [100], [70]])\n",
        "y_train = torch.FloatTensor([[152], [185], [180], [196], [142]])"
      ],
      "metadata": {
        "id": "dQvqSKASz4_d"
      },
      "execution_count": 22,
      "outputs": []
    },
    {
      "cell_type": "code",
      "source": [
        "# 가중치 w와 편향 b 초기화\n",
        "w1 = torch.zeros(1, requires_grad=True)\n",
        "w2 = torch.zeros(1, requires_grad=True)\n",
        "w3 = torch.zeros(1, requires_grad=True)\n",
        "b = torch.zeros(1, requires_grad=True)"
      ],
      "metadata": {
        "id": "w0lGJap00CHp"
      },
      "execution_count": 23,
      "outputs": []
    },
    {
      "cell_type": "code",
      "source": [
        "# optimizer 설정\n",
        "optimizer = optim.SGD([w1, w2, w3, b], lr = 1e-5)\n",
        "\n",
        "nb_epochs = 1000\n",
        "for epoch in range(nb_epochs + 1):\n",
        "\n",
        "    # H(x) 계산\n",
        "    hypothesis = x1_train*w1 + x2_train * w2 + x3_train * w3 + b\n",
        "\n",
        "    # cost 계산 (MSE : 평균제곱오차)\n",
        "    cost = torch.mean((hypothesis - y_train)**2)\n",
        "\n",
        "    # cost로 H(x) 개선\n",
        "    optimizer.zero_grad()\n",
        "    cost.backward()\n",
        "    optimizer.step()\n",
        "\n",
        "    # 100번마다 로그 출력\n",
        "    if epoch % 100 ==0:\n",
        "        print('Epoch {:4d}/{} w1: {:.3f} w2: {:.3f} w3: {:.3f} b: {:.3f} Cost: {:.6f}'.format(\n",
        "            epoch, nb_epochs, w1.item(), w2.item(), w3.item(), b.item(), cost.item()\n",
        "        ))"
      ],
      "metadata": {
        "colab": {
          "base_uri": "https://localhost:8080/"
        },
        "id": "wDwg7n8U0IjK",
        "outputId": "cffb4073-8a66-4902-e8ae-d04cf5200295"
      },
      "execution_count": 24,
      "outputs": [
        {
          "output_type": "stream",
          "name": "stdout",
          "text": [
            "Epoch    0/1000 w1: 0.294 w2: 0.294 w3: 0.297 b: 0.003 Cost: 29661.800781\n",
            "Epoch  100/1000 w1: 0.674 w2: 0.661 w3: 0.676 b: 0.008 Cost: 1.563628\n",
            "Epoch  200/1000 w1: 0.679 w2: 0.655 w3: 0.677 b: 0.008 Cost: 1.497595\n",
            "Epoch  300/1000 w1: 0.684 w2: 0.649 w3: 0.677 b: 0.008 Cost: 1.435044\n",
            "Epoch  400/1000 w1: 0.689 w2: 0.643 w3: 0.678 b: 0.008 Cost: 1.375726\n",
            "Epoch  500/1000 w1: 0.694 w2: 0.638 w3: 0.678 b: 0.009 Cost: 1.319507\n",
            "Epoch  600/1000 w1: 0.699 w2: 0.633 w3: 0.679 b: 0.009 Cost: 1.266222\n",
            "Epoch  700/1000 w1: 0.704 w2: 0.627 w3: 0.679 b: 0.009 Cost: 1.215703\n",
            "Epoch  800/1000 w1: 0.709 w2: 0.622 w3: 0.679 b: 0.009 Cost: 1.167810\n",
            "Epoch  900/1000 w1: 0.713 w2: 0.617 w3: 0.680 b: 0.009 Cost: 1.122429\n",
            "Epoch 1000/1000 w1: 0.718 w2: 0.613 w3: 0.680 b: 0.009 Cost: 1.079390\n"
          ]
        }
      ]
    },
    {
      "cell_type": "markdown",
      "source": [
        "More efficient way : Dot Product"
      ],
      "metadata": {
        "id": "El3YiYgr2uos"
      }
    },
    {
      "cell_type": "code",
      "source": [
        "x_train  =  torch.FloatTensor([[73,  80,  75], \n",
        "                               [93,  88,  93], \n",
        "                               [89,  91,  80], \n",
        "                               [96,  98,  100],   \n",
        "                               [73,  66,  70]])  \n",
        "y_train  =  torch.FloatTensor([[152],  [185],  [180],  [196],  [142]])"
      ],
      "metadata": {
        "id": "PY3wk7wJ2dpB"
      },
      "execution_count": 25,
      "outputs": []
    },
    {
      "cell_type": "code",
      "source": [
        "print(x_train.shape)\n",
        "print(y_train.shape)"
      ],
      "metadata": {
        "colab": {
          "base_uri": "https://localhost:8080/"
        },
        "id": "Q7kJ5TB73M8O",
        "outputId": "d94b4bb9-7145-4073-b5ba-b53cd0ca76be"
      },
      "execution_count": 26,
      "outputs": [
        {
          "output_type": "stream",
          "name": "stdout",
          "text": [
            "torch.Size([5, 3])\n",
            "torch.Size([5, 1])\n"
          ]
        }
      ]
    },
    {
      "cell_type": "code",
      "source": [
        "# 가중치와 편향 선언\n",
        "W = torch.zeros((3, 1), requires_grad=True)\n",
        "b = torch.zeros(1, requires_grad=True)"
      ],
      "metadata": {
        "id": "n_LjIa2o3QMF"
      },
      "execution_count": 29,
      "outputs": []
    },
    {
      "cell_type": "code",
      "source": [
        "hypothesis = x_train.matmul(W) + b"
      ],
      "metadata": {
        "id": "QLDx2Fkv3Ty1"
      },
      "execution_count": 30,
      "outputs": []
    },
    {
      "cell_type": "code",
      "source": [
        "x_train  =  torch.FloatTensor([[73,  80,  75], \n",
        "                               [93,  88,  93], \n",
        "                               [89,  91,  80], \n",
        "                               [96,  98,  100],   \n",
        "                               [73,  66,  70]])  \n",
        "y_train  =  torch.FloatTensor([[152],  [185],  [180],  [196],  [142]])\n",
        "\n",
        "# 모델 초기화\n",
        "W = torch.zeros((3, 1), requires_grad=True)\n",
        "b = torch.zeros(1, requires_grad=True)\n",
        "# optimizer 설정\n",
        "optimizer = optim.SGD([W, b], lr=1e-5)\n",
        "\n",
        "nb_epochs = 20\n",
        "for epoch in range(nb_epochs + 1):\n",
        "\n",
        "    # H(x) 계산\n",
        "    # 편향 b는 브로드 캐스팅되어 각 샘플에 더해집니다.\n",
        "    hypothesis = x_train.matmul(W) + b\n",
        "\n",
        "    # cost 계산\n",
        "    cost = torch.mean((hypothesis - y_train) ** 2)\n",
        "\n",
        "    # cost로 H(x) 개선\n",
        "    optimizer.zero_grad()\n",
        "    cost.backward()\n",
        "    optimizer.step()\n",
        "\n",
        "    print('Epoch {:4d}/{} hypothesis: {} Cost: {:.6f}'.format(\n",
        "        epoch, nb_epochs, hypothesis.squeeze().detach(), cost.item()\n",
        "    ))"
      ],
      "metadata": {
        "colab": {
          "base_uri": "https://localhost:8080/"
        },
        "id": "0j-rqIOP4HnV",
        "outputId": "8a3d21a3-7d1f-42b9-cc01-267ee4a9ea59"
      },
      "execution_count": 32,
      "outputs": [
        {
          "output_type": "stream",
          "name": "stdout",
          "text": [
            "Epoch    0/20 hypothesis: tensor([0., 0., 0., 0., 0.]) Cost: 29661.800781\n",
            "Epoch    1/20 hypothesis: tensor([66.7178, 80.1701, 76.1025, 86.0194, 61.1565]) Cost: 9537.694336\n",
            "Epoch    2/20 hypothesis: tensor([104.5421, 125.6208, 119.2478, 134.7862,  95.8280]) Cost: 3069.590088\n",
            "Epoch    3/20 hypothesis: tensor([125.9858, 151.3882, 143.7087, 162.4333, 115.4844]) Cost: 990.670288\n",
            "Epoch    4/20 hypothesis: tensor([138.1429, 165.9963, 157.5768, 178.1071, 126.6283]) Cost: 322.481873\n",
            "Epoch    5/20 hypothesis: tensor([145.0350, 174.2780, 165.4395, 186.9928, 132.9461]) Cost: 107.717064\n",
            "Epoch    6/20 hypothesis: tensor([148.9423, 178.9730, 169.8976, 192.0301, 136.5279]) Cost: 38.687496\n",
            "Epoch    7/20 hypothesis: tensor([151.1574, 181.6346, 172.4254, 194.8856, 138.5585]) Cost: 16.499043\n",
            "Epoch    8/20 hypothesis: tensor([152.4131, 183.1435, 173.8590, 196.5043, 139.7097]) Cost: 9.365656\n",
            "Epoch    9/20 hypothesis: tensor([153.1250, 183.9988, 174.6723, 197.4217, 140.3625]) Cost: 7.071114\n",
            "Epoch   10/20 hypothesis: tensor([153.5285, 184.4835, 175.1338, 197.9415, 140.7325]) Cost: 6.331847\n",
            "Epoch   11/20 hypothesis: tensor([153.7572, 184.7582, 175.3958, 198.2360, 140.9424]) Cost: 6.092532\n",
            "Epoch   12/20 hypothesis: tensor([153.8868, 184.9138, 175.5449, 198.4026, 141.0613]) Cost: 6.013817\n",
            "Epoch   13/20 hypothesis: tensor([153.9602, 185.0019, 175.6299, 198.4969, 141.1288]) Cost: 5.986785\n",
            "Epoch   14/20 hypothesis: tensor([154.0017, 185.0517, 175.6785, 198.5500, 141.1671]) Cost: 5.976325\n",
            "Epoch   15/20 hypothesis: tensor([154.0252, 185.0798, 175.7065, 198.5800, 141.1888]) Cost: 5.971208\n",
            "Epoch   16/20 hypothesis: tensor([154.0385, 185.0956, 175.7229, 198.5966, 141.2012]) Cost: 5.967835\n",
            "Epoch   17/20 hypothesis: tensor([154.0459, 185.1045, 175.7326, 198.6059, 141.2082]) Cost: 5.964969\n",
            "Epoch   18/20 hypothesis: tensor([154.0501, 185.1094, 175.7386, 198.6108, 141.2122]) Cost: 5.962291\n",
            "Epoch   19/20 hypothesis: tensor([154.0524, 185.1120, 175.7424, 198.6134, 141.2145]) Cost: 5.959664\n",
            "Epoch   20/20 hypothesis: tensor([154.0536, 185.1134, 175.7451, 198.6145, 141.2158]) Cost: 5.957089\n"
          ]
        }
      ]
    },
    {
      "cell_type": "markdown",
      "source": [
        "Using nn.Module in pytorch"
      ],
      "metadata": {
        "id": "shVOafjO4kzR"
      }
    },
    {
      "cell_type": "code",
      "source": [
        "import torch\n",
        "import torch.nn as nn\n",
        "import torch.nn.functional as F"
      ],
      "metadata": {
        "id": "ZWi0cAy44Vz-"
      },
      "execution_count": 35,
      "outputs": []
    },
    {
      "cell_type": "code",
      "source": [
        "torch.manual_seed(1)\n",
        "\n",
        "# 데이터\n",
        "x_train = torch.FloatTensor([[1], [2], [3]])\n",
        "y_train = torch.FloatTensor([[2], [4], [6]])"
      ],
      "metadata": {
        "id": "mFkEl1gl4sQE"
      },
      "execution_count": 36,
      "outputs": []
    },
    {
      "cell_type": "code",
      "source": [
        "# 모델을 선언 및 초기화. 단순 선형 회귀이므로 input_dim=1, output_dim=1.\n",
        "# model = nn.Linear(input_dim, output_dim)\n",
        "model = nn.Linear(1,1)"
      ],
      "metadata": {
        "id": "ie65zTUP5PB_"
      },
      "execution_count": 38,
      "outputs": []
    },
    {
      "cell_type": "code",
      "source": [
        "print(list(model.parameters()))\n",
        "# W와 b가 랜덤으로 초기화 되어있음"
      ],
      "metadata": {
        "colab": {
          "base_uri": "https://localhost:8080/"
        },
        "id": "eQ6_0Avo5fuJ",
        "outputId": "f86fa1db-954a-4fa5-a8e2-d0d31a023dfe"
      },
      "execution_count": 40,
      "outputs": [
        {
          "output_type": "stream",
          "name": "stdout",
          "text": [
            "[Parameter containing:\n",
            "tensor([[-0.1939]], requires_grad=True), Parameter containing:\n",
            "tensor([0.4694], requires_grad=True)]\n"
          ]
        }
      ]
    },
    {
      "cell_type": "code",
      "source": [
        "# optimizer 설정. 경사 하강법 SGD를 사용하고 learning rate를 의미하는 lr은 0.01\n",
        "optimizer = torch.optim.SGD(model.parameters(), lr=0.01)"
      ],
      "metadata": {
        "id": "w9y7OAZU5rd0"
      },
      "execution_count": 41,
      "outputs": []
    },
    {
      "cell_type": "code",
      "source": [
        "# 전체 훈련 데이터에 대해 경사 하강법을 2,000회 반복\n",
        "nb_epochs = 2000\n",
        "for epoch in range(nb_epochs+1):\n",
        "\n",
        "    # H(x) 계산\n",
        "    prediction = model(x_train)\n",
        "\n",
        "    # cost 계산\n",
        "    cost = F.mse_loss(prediction, y_train) # <== 파이토치에서 제공하는 평균 제곱 오차 함수\n",
        "\n",
        "    # cost로 H(x) 개선하는 부분\n",
        "    # gradient를 0으로 초기화\n",
        "    optimizer.zero_grad()\n",
        "    # 비용 함수를 미분하여 gradient 계산\n",
        "    cost.backward() # backward 연산\n",
        "    # W와 b를 업데이트\n",
        "    optimizer.step()\n",
        "\n",
        "    if epoch % 100 == 0:\n",
        "    # 100번마다 로그 출력\n",
        "      print('Epoch {:4d}/{} Cost: {:.6f}'.format(\n",
        "          epoch, nb_epochs, cost.item()\n",
        "      ))\n"
      ],
      "metadata": {
        "colab": {
          "base_uri": "https://localhost:8080/"
        },
        "id": "HXNZ_nhg5Q0v",
        "outputId": "d43a6c5e-2aaf-4feb-c052-25b9571b501e"
      },
      "execution_count": 42,
      "outputs": [
        {
          "output_type": "stream",
          "name": "stdout",
          "text": [
            "Epoch    0/2000 Cost: 18.562185\n",
            "Epoch  100/2000 Cost: 0.128051\n",
            "Epoch  200/2000 Cost: 0.079128\n",
            "Epoch  300/2000 Cost: 0.048896\n",
            "Epoch  400/2000 Cost: 0.030215\n",
            "Epoch  500/2000 Cost: 0.018671\n",
            "Epoch  600/2000 Cost: 0.011538\n",
            "Epoch  700/2000 Cost: 0.007129\n",
            "Epoch  800/2000 Cost: 0.004406\n",
            "Epoch  900/2000 Cost: 0.002722\n",
            "Epoch 1000/2000 Cost: 0.001682\n",
            "Epoch 1100/2000 Cost: 0.001040\n",
            "Epoch 1200/2000 Cost: 0.000642\n",
            "Epoch 1300/2000 Cost: 0.000397\n",
            "Epoch 1400/2000 Cost: 0.000245\n",
            "Epoch 1500/2000 Cost: 0.000152\n",
            "Epoch 1600/2000 Cost: 0.000094\n",
            "Epoch 1700/2000 Cost: 0.000058\n",
            "Epoch 1800/2000 Cost: 0.000036\n",
            "Epoch 1900/2000 Cost: 0.000022\n",
            "Epoch 2000/2000 Cost: 0.000014\n"
          ]
        }
      ]
    },
    {
      "cell_type": "code",
      "source": [
        "# 임의의 입력 4를 선언\n",
        "new_var = torch.FloatTensor([4.0])\n",
        "# 입력한 값 4에 대해서 예측값 y를 리턴받아서 pred_y에 저장\n",
        "pred_y = model(new_var) # forward 연산\n",
        "# y = 2x 이므로 입력이 4일때 y가 8에 가까운 값이 나와야 제대로 학습이 된 것\n",
        "print(\"훈련 후 입력이 4일 때의 예측값 :\", pred_y) "
      ],
      "metadata": {
        "colab": {
          "base_uri": "https://localhost:8080/"
        },
        "id": "0fTewXCz57GV",
        "outputId": "10cc7c99-ad8f-4219-b65b-b7b7852a30e8"
      },
      "execution_count": 44,
      "outputs": [
        {
          "output_type": "stream",
          "name": "stdout",
          "text": [
            "훈련 후 입력이 4일 때의 예측값 : tensor([7.9926], grad_fn=<AddBackward0>)\n"
          ]
        }
      ]
    },
    {
      "cell_type": "code",
      "source": [
        "# 학습 후의 W와 b\n",
        "print(list(model.parameters()))"
      ],
      "metadata": {
        "colab": {
          "base_uri": "https://localhost:8080/"
        },
        "id": "xTVEZRil6h3-",
        "outputId": "95cf1480-8c8b-4e65-bb63-e37ad31da135"
      },
      "execution_count": 45,
      "outputs": [
        {
          "output_type": "stream",
          "name": "stdout",
          "text": [
            "[Parameter containing:\n",
            "tensor([[1.9957]], requires_grad=True), Parameter containing:\n",
            "tensor([0.0097], requires_grad=True)]\n"
          ]
        }
      ]
    },
    {
      "cell_type": "markdown",
      "source": [
        "H(x) 식에 입력 x로부터 예측된 y를 얻는 것을 forward 연산이라고 합니다.\n",
        "\n",
        "학습 전, prediction = model(x_train)은 x_train으로부터 예측값을 리턴하므로 forward 연산입니다.\n",
        "\n",
        "학습 후, pred_y = model(new_var)는 임의의 값 new_var로부터 예측값을 리턴하므로 forward 연산입니다.\n",
        "\n",
        "학습 과정에서 비용 함수를 미분하여 기울기를 구하는 것을 backward 연산이라고 합니다.\n",
        "\n",
        "cost.backward()는 비용 함수로부터 기울기를 구하라는 의미이며 backward 연산입니다."
      ],
      "metadata": {
        "id": "uBCUOkvX61jJ"
      }
    },
    {
      "cell_type": "markdown",
      "source": [
        "다중 선형 회귀"
      ],
      "metadata": {
        "id": "s9i4dc-A7IK8"
      }
    },
    {
      "cell_type": "code",
      "source": [
        "# 데이터\n",
        "x_train = torch.FloatTensor([[73, 80, 75],\n",
        "                             [93, 88, 93],\n",
        "                             [89, 91, 90],\n",
        "                             [96, 98, 100],\n",
        "                             [73, 66, 70]])\n",
        "y_train = torch.FloatTensor([[152], [185], [180], [196], [142]])"
      ],
      "metadata": {
        "id": "rSBz3C5s6uRi"
      },
      "execution_count": 46,
      "outputs": []
    },
    {
      "cell_type": "code",
      "source": [
        "# 모델을 선언 및 초기화. 다중 선형 회귀이므로 input_dim=3, output_dim=1.\n",
        "model = nn.Linear(3,1)"
      ],
      "metadata": {
        "id": "zqdjgVhi7Ka6"
      },
      "execution_count": 47,
      "outputs": []
    },
    {
      "cell_type": "code",
      "source": [
        "# 학습전 W와 b\n",
        "print(list(model.parameters()))"
      ],
      "metadata": {
        "colab": {
          "base_uri": "https://localhost:8080/"
        },
        "id": "sL20maa57Qry",
        "outputId": "e00fe385-8ab3-40c3-e0fe-ba13964d23f6"
      },
      "execution_count": 48,
      "outputs": [
        {
          "output_type": "stream",
          "name": "stdout",
          "text": [
            "[Parameter containing:\n",
            "tensor([[-0.5435,  0.3462, -0.1188]], requires_grad=True), Parameter containing:\n",
            "tensor([0.2937], requires_grad=True)]\n"
          ]
        }
      ]
    },
    {
      "cell_type": "code",
      "source": [
        "optimizer = torch.optim.SGD(model.parameters(), lr=1e-5) #1e-5 = 0.00001"
      ],
      "metadata": {
        "id": "x3TScDjf7U1y"
      },
      "execution_count": 49,
      "outputs": []
    },
    {
      "cell_type": "code",
      "source": [
        "nb_epochs = 5000\n",
        "for epoch in range(nb_epochs+1):\n",
        "\n",
        "    # H(x) 계산\n",
        "    prediction = model(x_train)\n",
        "    # model(x_train)은 model.forward(x_train)와 동일함.\n",
        "\n",
        "    # cost 계산\n",
        "    cost = F.mse_loss(prediction, y_train) # <== 파이토치에서 제공하는 평균 제곱 오차 함수\n",
        "\n",
        "    # cost로 H(x) 개선하는 부분\n",
        "    # gradient를 0으로 초기화\n",
        "    optimizer.zero_grad()\n",
        "    # 비용 함수를 미분하여 gradient 계산\n",
        "    cost.backward()\n",
        "    # W와 b를 업데이트\n",
        "    optimizer.step()\n",
        "\n",
        "    if epoch % 100 == 0:\n",
        "    # 100번마다 로그 출력\n",
        "      print('Epoch {:4d}/{} Cost: {:.6f}'.format(\n",
        "          epoch, nb_epochs, cost.item()\n",
        "      ))"
      ],
      "metadata": {
        "colab": {
          "base_uri": "https://localhost:8080/"
        },
        "id": "8ecBhugX7hJ5",
        "outputId": "13eb7fbc-5200-428f-f6e3-e1e19d059183"
      },
      "execution_count": 52,
      "outputs": [
        {
          "output_type": "stream",
          "name": "stdout",
          "text": [
            "Epoch    0/5000 Cost: 0.306692\n",
            "Epoch  100/5000 Cost: 0.305130\n",
            "Epoch  200/5000 Cost: 0.303615\n",
            "Epoch  300/5000 Cost: 0.302162\n",
            "Epoch  400/5000 Cost: 0.300739\n",
            "Epoch  500/5000 Cost: 0.299372\n",
            "Epoch  600/5000 Cost: 0.298047\n",
            "Epoch  700/5000 Cost: 0.296751\n",
            "Epoch  800/5000 Cost: 0.295497\n",
            "Epoch  900/5000 Cost: 0.294292\n",
            "Epoch 1000/5000 Cost: 0.293116\n",
            "Epoch 1100/5000 Cost: 0.291968\n",
            "Epoch 1200/5000 Cost: 0.290851\n",
            "Epoch 1300/5000 Cost: 0.289769\n",
            "Epoch 1400/5000 Cost: 0.288714\n",
            "Epoch 1500/5000 Cost: 0.287685\n",
            "Epoch 1600/5000 Cost: 0.286680\n",
            "Epoch 1700/5000 Cost: 0.285701\n",
            "Epoch 1800/5000 Cost: 0.284742\n",
            "Epoch 1900/5000 Cost: 0.283805\n",
            "Epoch 2000/5000 Cost: 0.282897\n",
            "Epoch 2100/5000 Cost: 0.282010\n",
            "Epoch 2200/5000 Cost: 0.281131\n",
            "Epoch 2300/5000 Cost: 0.280279\n",
            "Epoch 2400/5000 Cost: 0.279444\n",
            "Epoch 2500/5000 Cost: 0.278626\n",
            "Epoch 2600/5000 Cost: 0.277818\n",
            "Epoch 2700/5000 Cost: 0.277038\n",
            "Epoch 2800/5000 Cost: 0.276259\n",
            "Epoch 2900/5000 Cost: 0.275496\n",
            "Epoch 3000/5000 Cost: 0.274753\n",
            "Epoch 3100/5000 Cost: 0.274016\n",
            "Epoch 3200/5000 Cost: 0.273300\n",
            "Epoch 3300/5000 Cost: 0.272585\n",
            "Epoch 3400/5000 Cost: 0.271888\n",
            "Epoch 3500/5000 Cost: 0.271202\n",
            "Epoch 3600/5000 Cost: 0.270516\n",
            "Epoch 3700/5000 Cost: 0.269850\n",
            "Epoch 3800/5000 Cost: 0.269192\n",
            "Epoch 3900/5000 Cost: 0.268540\n",
            "Epoch 4000/5000 Cost: 0.267901\n",
            "Epoch 4100/5000 Cost: 0.267271\n",
            "Epoch 4200/5000 Cost: 0.266653\n",
            "Epoch 4300/5000 Cost: 0.266032\n",
            "Epoch 4400/5000 Cost: 0.265425\n",
            "Epoch 4500/5000 Cost: 0.264815\n",
            "Epoch 4600/5000 Cost: 0.264227\n",
            "Epoch 4700/5000 Cost: 0.263637\n",
            "Epoch 4800/5000 Cost: 0.263056\n",
            "Epoch 4900/5000 Cost: 0.262481\n",
            "Epoch 5000/5000 Cost: 0.261915\n"
          ]
        }
      ]
    },
    {
      "cell_type": "code",
      "source": [
        "# 임의의 입력 [73, 80, 75]를 선언\n",
        "new_var =  torch.FloatTensor([[73, 80, 75]]) \n",
        "# 입력한 값 [73, 80, 75]에 대해서 예측값 y를 리턴받아서 pred_y에 저장\n",
        "pred_y = model(new_var) \n",
        "print(\"훈련 후 입력이 73, 80, 75일 때의 예측값 :\", pred_y) "
      ],
      "metadata": {
        "colab": {
          "base_uri": "https://localhost:8080/"
        },
        "id": "Qm2KxGqK7kKj",
        "outputId": "532f3a63-88d7-4907-c4af-7a993fae7c0d"
      },
      "execution_count": 53,
      "outputs": [
        {
          "output_type": "stream",
          "name": "stdout",
          "text": [
            "훈련 후 입력이 73, 80, 75일 때의 예측값 : tensor([[151.3071]], grad_fn=<AddmmBackward0>)\n"
          ]
        }
      ]
    },
    {
      "cell_type": "code",
      "source": [
        "# 학습 후의 W와 b\n",
        "print(list(model.parameters()))"
      ],
      "metadata": {
        "colab": {
          "base_uri": "https://localhost:8080/"
        },
        "id": "_FmO09wE8CWt",
        "outputId": "f3a383cf-ffbb-4613-f7df-862c0497c677"
      },
      "execution_count": 54,
      "outputs": [
        {
          "output_type": "stream",
          "name": "stdout",
          "text": [
            "[Parameter containing:\n",
            "tensor([[0.8741, 0.4458, 0.6867]], requires_grad=True), Parameter containing:\n",
            "tensor([0.3258], requires_grad=True)]\n"
          ]
        }
      ]
    },
    {
      "cell_type": "markdown",
      "source": [
        "모델을 클래스로 구현하기"
      ],
      "metadata": {
        "id": "Hm7ySAek8Sp4"
      }
    },
    {
      "cell_type": "code",
      "source": [
        "class LinearRegressionModel(nn.Module): # torch.nn.Module을 상속받는 파이썬 클래스\n",
        "    def __init__(self): #\n",
        "        super().__init__()\n",
        "        self.linear = nn.Linear(1, 1) # 단순 선형 회귀이므로 input_dim=1, output_dim=1.\n",
        "\n",
        "    def forward(self, x):\n",
        "        return self.linear(x)"
      ],
      "metadata": {
        "id": "JkiEEEkT8Lvs"
      },
      "execution_count": 55,
      "outputs": []
    },
    {
      "cell_type": "code",
      "source": [
        "class MultivariateLinearRegressionModel(nn.Module):\n",
        "    def __init__(self):\n",
        "        super().__init__()\n",
        "        self.linear = nn.Linear(3, 1) # 다중 선형 회귀이므로 input_dim=3, output_dim=1.\n",
        "\n",
        "    def forward(self, x):\n",
        "        return self.linear(x)"
      ],
      "metadata": {
        "id": "4dgwJYBj8e2Z"
      },
      "execution_count": 57,
      "outputs": []
    },
    {
      "cell_type": "code",
      "source": [
        "# 데이터\n",
        "x_train = torch.FloatTensor([[1], [2], [3]])\n",
        "y_train = torch.FloatTensor([[2], [4], [6]])"
      ],
      "metadata": {
        "id": "bCPhJGxP8qNE"
      },
      "execution_count": 58,
      "outputs": []
    },
    {
      "cell_type": "code",
      "source": [
        "model = LinearRegressionModel()"
      ],
      "metadata": {
        "id": "ayY7AfRG8zgv"
      },
      "execution_count": 59,
      "outputs": []
    },
    {
      "cell_type": "code",
      "source": [
        "# optimizer 설정. 경사 하강법 SGD를 사용하고 learning rate를 의미하는 lr은 0.01\n",
        "optimizer = torch.optim.SGD(model.parameters(), lr=0.01) "
      ],
      "metadata": {
        "id": "fP6dKTDa82d0"
      },
      "execution_count": 60,
      "outputs": []
    },
    {
      "cell_type": "code",
      "source": [
        "# 전체 훈련 데이터에 대해 경사 하강법을 2,000회 반복\n",
        "nb_epochs = 2000\n",
        "for epoch in range(nb_epochs+1):\n",
        "\n",
        "    # H(x) 계산\n",
        "    prediction = model(x_train)\n",
        "\n",
        "    # cost 계산\n",
        "    cost = F.mse_loss(prediction, y_train) # <== 파이토치에서 제공하는 평균 제곱 오차 함수\n",
        "\n",
        "    # cost로 H(x) 개선하는 부분\n",
        "    # gradient를 0으로 초기화\n",
        "    optimizer.zero_grad()\n",
        "    # 비용 함수를 미분하여 gradient 계산\n",
        "    cost.backward() # backward 연산\n",
        "    # W와 b를 업데이트\n",
        "    optimizer.step()\n",
        "\n",
        "    if epoch % 100 == 0:\n",
        "    # 100번마다 로그 출력\n",
        "      print('Epoch {:4d}/{} Cost: {:.6f}'.format(\n",
        "          epoch, nb_epochs, cost.item()\n",
        "      ))"
      ],
      "metadata": {
        "colab": {
          "base_uri": "https://localhost:8080/"
        },
        "id": "bn2ilOL_84Qs",
        "outputId": "8282afe9-45c9-408e-e4bb-b0fc3754971a"
      },
      "execution_count": 61,
      "outputs": [
        {
          "output_type": "stream",
          "name": "stdout",
          "text": [
            "Epoch    0/2000 Cost: 13.510777\n",
            "Epoch  100/2000 Cost: 0.040541\n",
            "Epoch  200/2000 Cost: 0.025052\n",
            "Epoch  300/2000 Cost: 0.015480\n",
            "Epoch  400/2000 Cost: 0.009566\n",
            "Epoch  500/2000 Cost: 0.005911\n",
            "Epoch  600/2000 Cost: 0.003653\n",
            "Epoch  700/2000 Cost: 0.002257\n",
            "Epoch  800/2000 Cost: 0.001395\n",
            "Epoch  900/2000 Cost: 0.000862\n",
            "Epoch 1000/2000 Cost: 0.000533\n",
            "Epoch 1100/2000 Cost: 0.000329\n",
            "Epoch 1200/2000 Cost: 0.000203\n",
            "Epoch 1300/2000 Cost: 0.000126\n",
            "Epoch 1400/2000 Cost: 0.000078\n",
            "Epoch 1500/2000 Cost: 0.000048\n",
            "Epoch 1600/2000 Cost: 0.000030\n",
            "Epoch 1700/2000 Cost: 0.000018\n",
            "Epoch 1800/2000 Cost: 0.000011\n",
            "Epoch 1900/2000 Cost: 0.000007\n",
            "Epoch 2000/2000 Cost: 0.000004\n"
          ]
        }
      ]
    },
    {
      "cell_type": "code",
      "source": [
        "# 데이터\n",
        "x_train = torch.FloatTensor([[73, 80, 75],\n",
        "                             [93, 88, 93],\n",
        "                             [89, 91, 90],\n",
        "                             [96, 98, 100],\n",
        "                             [73, 66, 70]])\n",
        "y_train = torch.FloatTensor([[152], [185], [180], [196], [142]])"
      ],
      "metadata": {
        "id": "ntzPzMvX87sW"
      },
      "execution_count": 62,
      "outputs": []
    },
    {
      "cell_type": "code",
      "source": [
        "model = MultivariateLinearRegressionModel()"
      ],
      "metadata": {
        "id": "O5yfjy498-bb"
      },
      "execution_count": 63,
      "outputs": []
    },
    {
      "cell_type": "code",
      "source": [
        "optimizer = torch.optim.SGD(model.parameters(), lr=1e-5)"
      ],
      "metadata": {
        "id": "-aBKHoJn8_x9"
      },
      "execution_count": 64,
      "outputs": []
    },
    {
      "cell_type": "code",
      "source": [
        "nb_epochs = 2000\n",
        "for epoch in range(nb_epochs+1):\n",
        "\n",
        "    # H(x) 계산\n",
        "    prediction = model(x_train)\n",
        "    # model(x_train)은 model.forward(x_train)와 동일함.\n",
        "\n",
        "    # cost 계산\n",
        "    cost = F.mse_loss(prediction, y_train) # <== 파이토치에서 제공하는 평균 제곱 오차 함수\n",
        "\n",
        "    # cost로 H(x) 개선하는 부분\n",
        "    # gradient를 0으로 초기화\n",
        "    optimizer.zero_grad()\n",
        "    # 비용 함수를 미분하여 gradient 계산\n",
        "    cost.backward()\n",
        "    # W와 b를 업데이트\n",
        "    optimizer.step()\n",
        "\n",
        "    if epoch % 100 == 0:\n",
        "    # 100번마다 로그 출력\n",
        "      print('Epoch {:4d}/{} Cost: {:.6f}'.format(\n",
        "          epoch, nb_epochs, cost.item()\n",
        "      ))"
      ],
      "metadata": {
        "colab": {
          "base_uri": "https://localhost:8080/"
        },
        "id": "EP8iqH1S9AuJ",
        "outputId": "2c9b480a-da68-41ab-e246-f7ad63643b1f"
      },
      "execution_count": 65,
      "outputs": [
        {
          "output_type": "stream",
          "name": "stdout",
          "text": [
            "Epoch    0/2000 Cost: 31362.458984\n",
            "Epoch  100/2000 Cost: 0.267419\n",
            "Epoch  200/2000 Cost: 0.266823\n",
            "Epoch  300/2000 Cost: 0.266239\n",
            "Epoch  400/2000 Cost: 0.265651\n",
            "Epoch  500/2000 Cost: 0.265086\n",
            "Epoch  600/2000 Cost: 0.264524\n",
            "Epoch  700/2000 Cost: 0.263962\n",
            "Epoch  800/2000 Cost: 0.263412\n",
            "Epoch  900/2000 Cost: 0.262871\n",
            "Epoch 1000/2000 Cost: 0.262337\n",
            "Epoch 1100/2000 Cost: 0.261808\n",
            "Epoch 1200/2000 Cost: 0.261285\n",
            "Epoch 1300/2000 Cost: 0.260773\n",
            "Epoch 1400/2000 Cost: 0.260260\n",
            "Epoch 1500/2000 Cost: 0.259755\n",
            "Epoch 1600/2000 Cost: 0.259250\n",
            "Epoch 1700/2000 Cost: 0.258762\n",
            "Epoch 1800/2000 Cost: 0.258269\n",
            "Epoch 1900/2000 Cost: 0.257777\n",
            "Epoch 2000/2000 Cost: 0.257306\n"
          ]
        }
      ]
    },
    {
      "cell_type": "markdown",
      "source": [
        "Mini Batch and Batch Size"
      ],
      "metadata": {
        "id": "MGcZenJt9FhY"
      }
    },
    {
      "cell_type": "code",
      "source": [
        "from torch.utils.data import TensorDataset # 텐서데이터셋\n",
        "from torch.utils.data import DataLoader # 데이터로더"
      ],
      "metadata": {
        "id": "YZwWd5ia9Dfa"
      },
      "execution_count": 66,
      "outputs": []
    },
    {
      "cell_type": "code",
      "source": [
        "x_train  =  torch.FloatTensor([[73,  80,  75], \n",
        "                               [93,  88,  93], \n",
        "                               [89,  91,  90], \n",
        "                               [96,  98,  100],   \n",
        "                               [73,  66,  70]])  \n",
        "y_train  =  torch.FloatTensor([[152],  [185],  [180],  [196],  [142]])"
      ],
      "metadata": {
        "id": "zmGahFSu9zCJ"
      },
      "execution_count": 67,
      "outputs": []
    },
    {
      "cell_type": "code",
      "source": [
        "dataset = TensorDataset(x_train, y_train)"
      ],
      "metadata": {
        "id": "n6AbV6v_93Os"
      },
      "execution_count": 68,
      "outputs": []
    },
    {
      "cell_type": "code",
      "source": [
        "dataloader = DataLoader(dataset, batch_size=2, shuffle=True)"
      ],
      "metadata": {
        "id": "05c8BsTd96it"
      },
      "execution_count": 70,
      "outputs": []
    },
    {
      "cell_type": "code",
      "source": [
        "model = nn.Linear(3,1)\n",
        "optimizer = torch.optim.SGD(model.parameters(), lr=1e-5) "
      ],
      "metadata": {
        "id": "MUoYPCB7-Ccy"
      },
      "execution_count": 71,
      "outputs": []
    },
    {
      "cell_type": "code",
      "source": [
        "nb_epochs = 20\n",
        "for epoch in range(nb_epochs + 1):\n",
        "  for batch_idx, samples in enumerate(dataloader):\n",
        "    #print(batch_idx)\n",
        "    #print(samples)\n",
        "    x_train, y_train = samples\n",
        "    # H(x) 계산\n",
        "    prediction = model(x_train)\n",
        "\n",
        "    # cost 계산\n",
        "    cost = F.mse_loss(prediction, y_train)\n",
        "\n",
        "    # cost로 H(x) 계산\n",
        "    optimizer.zero_grad()\n",
        "    cost.backward()\n",
        "    optimizer.step()\n",
        "\n",
        "    print('Epoch {:4d}/{} Batch {}/{} Cost: {:.6f}'.format(\n",
        "        epoch, nb_epochs, batch_idx+1, len(dataloader),\n",
        "        cost.item()\n",
        "        ))"
      ],
      "metadata": {
        "colab": {
          "base_uri": "https://localhost:8080/"
        },
        "id": "NyuOSE7G-H5K",
        "outputId": "7e1e26c2-02f6-4881-e5b4-6519d4e7cb39"
      },
      "execution_count": 73,
      "outputs": [
        {
          "output_type": "stream",
          "name": "stdout",
          "text": [
            "Epoch    0/20 Batch 1/3 Cost: 1.683089\n",
            "Epoch    0/20 Batch 2/3 Cost: 2.540514\n",
            "Epoch    0/20 Batch 3/3 Cost: 0.242429\n",
            "Epoch    1/20 Batch 1/3 Cost: 2.498274\n",
            "Epoch    1/20 Batch 2/3 Cost: 0.137903\n",
            "Epoch    1/20 Batch 3/3 Cost: 0.746045\n",
            "Epoch    2/20 Batch 1/3 Cost: 1.166293\n",
            "Epoch    2/20 Batch 2/3 Cost: 0.736116\n",
            "Epoch    2/20 Batch 3/3 Cost: 3.335127\n",
            "Epoch    3/20 Batch 1/3 Cost: 0.309213\n",
            "Epoch    3/20 Batch 2/3 Cost: 1.649214\n",
            "Epoch    3/20 Batch 3/3 Cost: 3.504590\n",
            "Epoch    4/20 Batch 1/3 Cost: 2.844212\n",
            "Epoch    4/20 Batch 2/3 Cost: 0.380159\n",
            "Epoch    4/20 Batch 3/3 Cost: 0.017044\n",
            "Epoch    5/20 Batch 1/3 Cost: 1.447848\n",
            "Epoch    5/20 Batch 2/3 Cost: 0.491054\n",
            "Epoch    5/20 Batch 3/3 Cost: 2.996582\n",
            "Epoch    6/20 Batch 1/3 Cost: 2.276124\n",
            "Epoch    6/20 Batch 2/3 Cost: 0.390682\n",
            "Epoch    6/20 Batch 3/3 Cost: 2.716491\n",
            "Epoch    7/20 Batch 1/3 Cost: 3.104640\n",
            "Epoch    7/20 Batch 2/3 Cost: 1.781231\n",
            "Epoch    7/20 Batch 3/3 Cost: 0.232554\n",
            "Epoch    8/20 Batch 1/3 Cost: 1.986365\n",
            "Epoch    8/20 Batch 2/3 Cost: 1.846854\n",
            "Epoch    8/20 Batch 3/3 Cost: 0.895463\n",
            "Epoch    9/20 Batch 1/3 Cost: 0.388367\n",
            "Epoch    9/20 Batch 2/3 Cost: 1.188949\n",
            "Epoch    9/20 Batch 3/3 Cost: 3.693897\n",
            "Epoch   10/20 Batch 1/3 Cost: 0.462748\n",
            "Epoch   10/20 Batch 2/3 Cost: 1.552394\n",
            "Epoch   10/20 Batch 3/3 Cost: 3.349409\n",
            "Epoch   11/20 Batch 1/3 Cost: 1.336502\n",
            "Epoch   11/20 Batch 2/3 Cost: 2.051414\n",
            "Epoch   11/20 Batch 3/3 Cost: 0.063373\n",
            "Epoch   12/20 Batch 1/3 Cost: 1.478290\n",
            "Epoch   12/20 Batch 2/3 Cost: 2.759221\n",
            "Epoch   12/20 Batch 3/3 Cost: 0.006817\n",
            "Epoch   13/20 Batch 1/3 Cost: 0.284480\n",
            "Epoch   13/20 Batch 2/3 Cost: 2.522884\n",
            "Epoch   13/20 Batch 3/3 Cost: 0.556314\n",
            "Epoch   14/20 Batch 1/3 Cost: 2.048500\n",
            "Epoch   14/20 Batch 2/3 Cost: 2.478002\n",
            "Epoch   14/20 Batch 3/3 Cost: 0.001030\n",
            "Epoch   15/20 Batch 1/3 Cost: 1.691216\n",
            "Epoch   15/20 Batch 2/3 Cost: 0.144920\n",
            "Epoch   15/20 Batch 3/3 Cost: 3.109408\n",
            "Epoch   16/20 Batch 1/3 Cost: 2.166375\n",
            "Epoch   16/20 Batch 2/3 Cost: 0.390520\n",
            "Epoch   16/20 Batch 3/3 Cost: 2.714429\n",
            "Epoch   17/20 Batch 1/3 Cost: 1.348404\n",
            "Epoch   17/20 Batch 2/3 Cost: 0.032946\n",
            "Epoch   17/20 Batch 3/3 Cost: 4.396450\n",
            "Epoch   18/20 Batch 1/3 Cost: 0.261870\n",
            "Epoch   18/20 Batch 2/3 Cost: 2.537202\n",
            "Epoch   18/20 Batch 3/3 Cost: 3.086365\n",
            "Epoch   19/20 Batch 1/3 Cost: 1.315601\n",
            "Epoch   19/20 Batch 2/3 Cost: 2.455191\n",
            "Epoch   19/20 Batch 3/3 Cost: 0.114263\n",
            "Epoch   20/20 Batch 1/3 Cost: 2.395920\n",
            "Epoch   20/20 Batch 2/3 Cost: 1.917215\n",
            "Epoch   20/20 Batch 3/3 Cost: 0.344988\n"
          ]
        }
      ]
    },
    {
      "cell_type": "code",
      "source": [
        "# 임의의 입력 [73, 80, 75]를 선언\n",
        "new_var =  torch.FloatTensor([[73, 80, 75]]) \n",
        "# 입력한 값 [73, 80, 75]에 대해서 예측값 y를 리턴받아서 pred_y에 저장\n",
        "pred_y = model(new_var) \n",
        "print(\"훈련 후 입력이 73, 80, 75일 때의 예측값 :\", pred_y) "
      ],
      "metadata": {
        "colab": {
          "base_uri": "https://localhost:8080/"
        },
        "id": "aKRK_KCj-MmR",
        "outputId": "84e53633-7291-4a58-fdd6-a1547a11efbe"
      },
      "execution_count": 74,
      "outputs": [
        {
          "output_type": "stream",
          "name": "stdout",
          "text": [
            "훈련 후 입력이 73, 80, 75일 때의 예측값 : tensor([[151.6165]], grad_fn=<AddmmBackward0>)\n"
          ]
        }
      ]
    },
    {
      "cell_type": "markdown",
      "source": [
        "Custom Dataset"
      ],
      "metadata": {
        "id": "gKKtXdAi-x1w"
      }
    },
    {
      "cell_type": "code",
      "source": [
        "# class CustomDataset(torch.utils.data.Dataset): \n",
        "#   def __init__(self):\n",
        "#   데이터셋의 전처리를 해주는 부분\n",
        "\n",
        "#   def __len__(self):\n",
        "#   데이터셋의 길이. 즉, 총 샘플의 수를 적어주는 부분\n",
        "\n",
        "#   def __getitem__(self, idx): \n",
        "#   데이터셋에서 특정 1개의 샘플을 가져오는 함수"
      ],
      "metadata": {
        "id": "9uhPpgGc-sGj"
      },
      "execution_count": 76,
      "outputs": []
    },
    {
      "cell_type": "code",
      "source": [
        "from torch.utils.data import Dataset\n",
        "from torch.utils.data import DataLoader"
      ],
      "metadata": {
        "id": "n6WtQQoc_Cii"
      },
      "execution_count": 78,
      "outputs": []
    },
    {
      "cell_type": "code",
      "source": [
        "# Dataset 상속\n",
        "class CustomDataset(Dataset): \n",
        "  def __init__(self):\n",
        "    self.x_data = [[73, 80, 75],\n",
        "                   [93, 88, 93],\n",
        "                   [89, 91, 90],\n",
        "                   [96, 98, 100],\n",
        "                   [73, 66, 70]]\n",
        "    self.y_data = [[152], [185], [180], [196], [142]]\n",
        "\n",
        "  # 총 데이터의 개수를 리턴\n",
        "  def __len__(self): \n",
        "    return len(self.x_data)\n",
        "\n",
        "  # 인덱스를 입력받아 그에 맵핑되는 입출력 데이터를 파이토치의 Tensor 형태로 리턴\n",
        "  def __getitem__(self, idx): \n",
        "    x = torch.FloatTensor(self.x_data[idx])\n",
        "    y = torch.FloatTensor(self.y_data[idx])\n",
        "    return x, y"
      ],
      "metadata": {
        "id": "yp78mxd8-0zC"
      },
      "execution_count": 79,
      "outputs": []
    },
    {
      "cell_type": "code",
      "source": [
        "dataset = CustomDataset()\n",
        "dataloader = DataLoader(dataset, batch_size=2, shuffle=True)"
      ],
      "metadata": {
        "id": "eq6jzhA8-_z1"
      },
      "execution_count": 80,
      "outputs": []
    },
    {
      "cell_type": "code",
      "source": [
        "model = torch.nn.Linear(3,1)\n",
        "optimizer = torch.optim.SGD(model.parameters(), lr=1e-5) "
      ],
      "metadata": {
        "id": "r7Xu3wtf_Nhc"
      },
      "execution_count": 81,
      "outputs": []
    },
    {
      "cell_type": "code",
      "source": [
        "nb_epochs = 20\n",
        "for epoch in range(nb_epochs + 1):\n",
        "  for batch_idx, samples in enumerate(dataloader):\n",
        "    # print(batch_idx)\n",
        "    # print(samples)\n",
        "    x_train, y_train = samples\n",
        "    # H(x) 계산\n",
        "    prediction = model(x_train)\n",
        "\n",
        "    # cost 계산\n",
        "    cost = F.mse_loss(prediction, y_train)\n",
        "\n",
        "    # cost로 H(x) 계산\n",
        "    optimizer.zero_grad()\n",
        "    cost.backward()\n",
        "    optimizer.step()\n",
        "\n",
        "    print('Epoch {:4d}/{} Batch {}/{} Cost: {:.6f}'.format(\n",
        "        epoch, nb_epochs, batch_idx+1, len(dataloader),\n",
        "        cost.item()\n",
        "        ))"
      ],
      "metadata": {
        "colab": {
          "base_uri": "https://localhost:8080/"
        },
        "id": "AdJ3FKKW_T0C",
        "outputId": "5c39f3fe-53af-4e5a-95fc-b1fbddc37c3d"
      },
      "execution_count": 82,
      "outputs": [
        {
          "output_type": "stream",
          "name": "stdout",
          "text": [
            "Epoch    0/20 Batch 1/3 Cost: 32378.472656\n",
            "Epoch    0/20 Batch 2/3 Cost: 9815.643555\n",
            "Epoch    0/20 Batch 3/3 Cost: 5220.807617\n",
            "Epoch    1/20 Batch 1/3 Cost: 728.489624\n",
            "Epoch    1/20 Batch 2/3 Cost: 265.810120\n",
            "Epoch    1/20 Batch 3/3 Cost: 94.822235\n",
            "Epoch    2/20 Batch 1/3 Cost: 18.762569\n",
            "Epoch    2/20 Batch 2/3 Cost: 9.553673\n",
            "Epoch    2/20 Batch 3/3 Cost: 4.142917\n",
            "Epoch    3/20 Batch 1/3 Cost: 0.896004\n",
            "Epoch    3/20 Batch 2/3 Cost: 0.602855\n",
            "Epoch    3/20 Batch 3/3 Cost: 1.741976\n",
            "Epoch    4/20 Batch 1/3 Cost: 0.947490\n",
            "Epoch    4/20 Batch 2/3 Cost: 1.240711\n",
            "Epoch    4/20 Batch 3/3 Cost: 0.389729\n",
            "Epoch    5/20 Batch 1/3 Cost: 0.646866\n",
            "Epoch    5/20 Batch 2/3 Cost: 1.265120\n",
            "Epoch    5/20 Batch 3/3 Cost: 1.283783\n",
            "Epoch    6/20 Batch 1/3 Cost: 1.390254\n",
            "Epoch    6/20 Batch 2/3 Cost: 0.459973\n",
            "Epoch    6/20 Batch 3/3 Cost: 0.366629\n",
            "Epoch    7/20 Batch 1/3 Cost: 0.645951\n",
            "Epoch    7/20 Batch 2/3 Cost: 1.165463\n",
            "Epoch    7/20 Batch 3/3 Cost: 0.152910\n",
            "Epoch    8/20 Batch 1/3 Cost: 0.341841\n",
            "Epoch    8/20 Batch 2/3 Cost: 0.556999\n",
            "Epoch    8/20 Batch 3/3 Cost: 2.338656\n",
            "Epoch    9/20 Batch 1/3 Cost: 0.539309\n",
            "Epoch    9/20 Batch 2/3 Cost: 1.020506\n",
            "Epoch    9/20 Batch 3/3 Cost: 1.087466\n",
            "Epoch   10/20 Batch 1/3 Cost: 0.373798\n",
            "Epoch   10/20 Batch 2/3 Cost: 1.515927\n",
            "Epoch   10/20 Batch 3/3 Cost: 0.204604\n",
            "Epoch   11/20 Batch 1/3 Cost: 0.691848\n",
            "Epoch   11/20 Batch 2/3 Cost: 0.796657\n",
            "Epoch   11/20 Batch 3/3 Cost: 1.173005\n",
            "Epoch   12/20 Batch 1/3 Cost: 0.396714\n",
            "Epoch   12/20 Batch 2/3 Cost: 1.629890\n",
            "Epoch   12/20 Batch 3/3 Cost: 1.149688\n",
            "Epoch   13/20 Batch 1/3 Cost: 0.415727\n",
            "Epoch   13/20 Batch 2/3 Cost: 1.045337\n",
            "Epoch   13/20 Batch 3/3 Cost: 1.351101\n",
            "Epoch   14/20 Batch 1/3 Cost: 1.498217\n",
            "Epoch   14/20 Batch 2/3 Cost: 0.443455\n",
            "Epoch   14/20 Batch 3/3 Cost: 0.029578\n",
            "Epoch   15/20 Batch 1/3 Cost: 1.270815\n",
            "Epoch   15/20 Batch 2/3 Cost: 0.630445\n",
            "Epoch   15/20 Batch 3/3 Cost: 0.039652\n",
            "Epoch   16/20 Batch 1/3 Cost: 1.149788\n",
            "Epoch   16/20 Batch 2/3 Cost: 0.855494\n",
            "Epoch   16/20 Batch 3/3 Cost: 0.989681\n",
            "Epoch   17/20 Batch 1/3 Cost: 1.752521\n",
            "Epoch   17/20 Batch 2/3 Cost: 0.844979\n",
            "Epoch   17/20 Batch 3/3 Cost: 0.578311\n",
            "Epoch   18/20 Batch 1/3 Cost: 0.580743\n",
            "Epoch   18/20 Batch 2/3 Cost: 1.481209\n",
            "Epoch   18/20 Batch 3/3 Cost: 0.047153\n",
            "Epoch   19/20 Batch 1/3 Cost: 1.129488\n",
            "Epoch   19/20 Batch 2/3 Cost: 1.033761\n",
            "Epoch   19/20 Batch 3/3 Cost: 0.678934\n",
            "Epoch   20/20 Batch 1/3 Cost: 1.631021\n",
            "Epoch   20/20 Batch 2/3 Cost: 0.129777\n",
            "Epoch   20/20 Batch 3/3 Cost: 0.727187\n"
          ]
        }
      ]
    },
    {
      "cell_type": "code",
      "source": [
        "# 임의의 입력 [73, 80, 75]를 선언\n",
        "new_var =  torch.FloatTensor([[73, 80, 75]]) \n",
        "# 입력한 값 [73, 80, 75]에 대해서 예측값 y를 리턴받아서 pred_y에 저장\n",
        "pred_y = model(new_var) \n",
        "print(\"훈련 후 입력이 73, 80, 75일 때의 예측값 :\", pred_y) "
      ],
      "metadata": {
        "colab": {
          "base_uri": "https://localhost:8080/"
        },
        "id": "UOGqhrsa_VgW",
        "outputId": "715a3ebc-8bd8-4834-837d-4eb3c193065e"
      },
      "execution_count": 83,
      "outputs": [
        {
          "output_type": "stream",
          "name": "stdout",
          "text": [
            "훈련 후 입력이 73, 80, 75일 때의 예측값 : tensor([[151.4433]], grad_fn=<AddmmBackward0>)\n"
          ]
        }
      ]
    },
    {
      "cell_type": "code",
      "source": [
        ""
      ],
      "metadata": {
        "id": "V_--dGPz_XnG"
      },
      "execution_count": null,
      "outputs": []
    }
  ]
}